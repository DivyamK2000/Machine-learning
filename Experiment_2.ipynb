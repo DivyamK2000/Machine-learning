{
  "cells": [
    {
      "cell_type": "code",
      "execution_count": null,
      "metadata": {
        "id": "8x37uUJ6eM8i"
      },
      "outputs": [],
      "source": [
        "import pandas as pd\n",
        "import numpy as np\n",
        "import matplotlib.pyplot as plt\n",
        "from sklearn.model_selection import train_test_split\n",
        "from sklearn.linear_model import LinearRegression"
      ]
    },
    {
      "cell_type": "code",
      "execution_count": null,
      "metadata": {
        "id": "RvxEXPrMoxZ3"
      },
      "outputs": [],
      "source": [
        "boston = pd.read_csv(\"/content/HousingData.csv\")"
      ]
    },
    {
      "cell_type": "code",
      "execution_count": null,
      "metadata": {
        "colab": {
          "base_uri": "https://localhost:8080/",
          "height": 443
        },
        "id": "oL8PJuQcqEnL",
        "outputId": "01fa239b-6e76-4bb5-b4c0-5e6fac3fd0b5"
      },
      "outputs": [],
      "source": [
        "boston"
      ]
    },
    {
      "cell_type": "code",
      "execution_count": null,
      "metadata": {
        "id": "L59haZrppBGT"
      },
      "outputs": [],
      "source": [
        "def linearRegression(X, y):\n",
        "\n",
        "  X_train, X_test, y_train, y_test = train_test_split(X, y, test_size=0.2, random_state=42)\n",
        "\n",
        "  model = LinearRegression()\n",
        "  model.fit(X_train, y_train)\n",
        "\n",
        "  prediction = model.predict(X_test)\n",
        "\n",
        "  accuracy = model.score(X_test, y_test)\n",
        "\n",
        "  plt.scatter(X_test, y_test)\n",
        "  plt.plot(X_test, prediction, color='red')\n",
        "  plt.xlabel(\"AGE\")\n",
        "  plt.ylabel(\"TAX\")\n",
        "  plt.title(\"Linear Regression Visulization\")\n",
        "  plt.show()\n",
        "\n",
        "  return model, prediction, accuracy"
      ]
    },
    {
      "cell_type": "code",
      "execution_count": null,
      "metadata": {
        "id": "VFauzlpUq7Fx"
      },
      "outputs": [],
      "source": [
        "X = np.array(boston['RAD'])\n",
        "y = np.array(boston['TAX'])\n",
        "\n",
        "X = X.reshape(-1, 1)\n",
        "y = y.reshape(-1, 1)"
      ]
    },
    {
      "cell_type": "code",
      "execution_count": null,
      "metadata": {
        "colab": {
          "base_uri": "https://localhost:8080/",
          "height": 525
        },
        "id": "N-sMcJuqrZXu",
        "outputId": "01dd54ac-a9ec-4836-a9a1-f0654c9bcd8a"
      },
      "outputs": [],
      "source": [
        "model, prediction, accuracy = linearRegression(X, y)\n",
        "\n",
        "print(\"Model cofficients: \",model.coef_)\n",
        "print(\"Model intercept: \", model.intercept_)\n",
        "print(\"Accuracy score: \", accuracy)"
      ]
    },
    {
      "cell_type": "code",
      "execution_count": null,
      "metadata": {
        "id": "bzjZEXlY9-cZ"
      },
      "outputs": [],
      "source": [
        "import seaborn as sns\n",
        "from sklearn.preprocessing import StandardScaler, LabelEncoder\n",
        "from sklearn.linear_model import LogisticRegression\n",
        "from sklearn.metrics import accuracy_score, classification_report, confusion_matrix, roc_curve, auc"
      ]
    },
    {
      "cell_type": "code",
      "execution_count": null,
      "metadata": {
        "id": "dRFRXBqlA8B-"
      },
      "outputs": [],
      "source": [
        "diabetes = pd.read_csv(\"/content/diabetes.csv\")"
      ]
    },
    {
      "cell_type": "code",
      "execution_count": null,
      "metadata": {
        "colab": {
          "base_uri": "https://localhost:8080/",
          "height": 443
        },
        "id": "xmSQxljWODwC",
        "outputId": "7a885ee8-a7d2-4773-b889-4f8acf5bc123"
      },
      "outputs": [],
      "source": [
        "diabetes"
      ]
    },
    {
      "cell_type": "code",
      "execution_count": null,
      "metadata": {
        "id": "tI5YepEOA-8k"
      },
      "outputs": [],
      "source": [
        "X = diabetes.drop(\"Outcome\", axis=1)\n",
        "y = diabetes[\"Outcome\"]"
      ]
    },
    {
      "cell_type": "code",
      "execution_count": null,
      "metadata": {
        "id": "_dgleYfyB4vI"
      },
      "outputs": [],
      "source": [
        "X_train, X_test, y_train, y_test = train_test_split(X, y, test_size=0.2, random_state=42)"
      ]
    },
    {
      "cell_type": "code",
      "execution_count": null,
      "metadata": {
        "colab": {
          "base_uri": "https://localhost:8080/"
        },
        "id": "iauOfBhXAr08",
        "outputId": "ce314b95-33e9-4f1d-fc7c-838d1899a5a9"
      },
      "outputs": [],
      "source": [
        "model = LogisticRegression()\n",
        "model.fit(X_train, y_train)\n",
        "y_pred = model.predict(X_test)\n",
        "model_score = model.score(X_test, y_test)"
      ]
    },
    {
      "cell_type": "code",
      "execution_count": null,
      "metadata": {
        "colab": {
          "base_uri": "https://localhost:8080/"
        },
        "id": "37Ex5xvaDrwU",
        "outputId": "9cb15ee5-706b-438c-fc86-e5f290bdc419"
      },
      "outputs": [],
      "source": [
        "print(model_score)"
      ]
    },
    {
      "cell_type": "code",
      "execution_count": null,
      "metadata": {
        "colab": {
          "base_uri": "https://localhost:8080/"
        },
        "id": "p3aS-vr2EM-h",
        "outputId": "678aa277-959f-49b0-83b2-1d92ad236b83"
      },
      "outputs": [],
      "source": [
        "print(\"Accuracy: {:.2f}%\".format(accuracy * 100))\n",
        "print(\"Confusion Matrix: \\n\", confusion_matrix(y_test, y_pred))"
      ]
    },
    {
      "cell_type": "code",
      "execution_count": null,
      "metadata": {
        "colab": {
          "base_uri": "https://localhost:8080/",
          "height": 449
        },
        "id": "o05FvVd9IYQJ",
        "outputId": "13d72ac6-07ae-49f0-f6da-26405f42ec75"
      },
      "outputs": [],
      "source": [
        "x = np.linspace(-100, 100, 200)\n",
        "z = 1/(1 + np.exp(-x))\n",
        "plt.plot(x, z)\n",
        "plt.xlabel(\"x\")\n",
        "plt.ylabel(\"Sigmoid(X)\")\n",
        "plt.show()"
      ]
    }
  ],
  "metadata": {
    "colab": {
      "provenance": []
    },
    "kernelspec": {
      "display_name": "Python 3",
      "name": "python3"
    },
    "language_info": {
      "name": "python"
    }
  },
  "nbformat": 4,
  "nbformat_minor": 0
}
