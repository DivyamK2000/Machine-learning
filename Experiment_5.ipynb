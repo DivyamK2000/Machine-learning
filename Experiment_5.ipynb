{
  "cells": [
    {
      "cell_type": "code",
      "execution_count": null,
      "metadata": {
        "id": "VGMh9Ro54qoQ"
      },
      "outputs": [],
      "source": [
        "import numpy as np\n",
        "import pandas as pd\n",
        "import matplotlib.pyplot as plt\n",
        "from sklearn.model_selection import train_test_split\n",
        "from sklearn.naive_bayes import GaussianNB\n",
        "from sklearn.metrics import accuracy_score\n",
        "from sklearn.preprocessing import LabelEncoder"
      ]
    },
    {
      "cell_type": "code",
      "execution_count": null,
      "metadata": {
        "colab": {
          "base_uri": "https://localhost:8080/",
          "height": 461
        },
        "id": "SLa6kofyG_FS",
        "outputId": "21991c58-48d3-44d6-c8a2-8a9bcab8648a"
      },
      "outputs": [],
      "source": [
        "dataset = pd.read_csv(\"/content/Cancer_Data.csv\")\n",
        "dataset"
      ]
    },
    {
      "cell_type": "code",
      "execution_count": null,
      "metadata": {
        "colab": {
          "base_uri": "https://localhost:8080/"
        },
        "id": "Y2WNz9EzIADF",
        "outputId": "67fc1da5-0ed5-442b-e302-2fc6669c1a36"
      },
      "outputs": [],
      "source": [
        "dataset.info()"
      ]
    },
    {
      "cell_type": "code",
      "execution_count": null,
      "metadata": {
        "id": "ZrY3mEyl0NcT"
      },
      "outputs": [],
      "source": [
        "dataset = dataset.drop([\"id\", \"Unnamed: 32\"], axis = 1)"
      ]
    },
    {
      "cell_type": "code",
      "execution_count": null,
      "metadata": {
        "id": "_hnmJA27IbZp"
      },
      "outputs": [],
      "source": [
        "M = dataset[dataset.diagnosis == \"M\"]\n",
        "B = dataset[dataset.diagnosis == \"B\"]"
      ]
    },
    {
      "cell_type": "code",
      "execution_count": null,
      "metadata": {
        "colab": {
          "base_uri": "https://localhost:8080/",
          "height": 472
        },
        "id": "SvJQBB5IJZhv",
        "outputId": "24dce3fe-0f62-4885-96d2-9ff84787bfce"
      },
      "outputs": [],
      "source": [
        "plt.title(\"Malignant vs Benign Tumor\")\n",
        "plt.xlabel(\"Radius Mean\")\n",
        "plt.ylabel(\"Texture Mean\")\n",
        "plt.scatter(M.radius_mean, M.texture_mean, color = \"black\", label = \"Malignant\", alpha = 0.3)\n",
        "plt.scatter(B.radius_mean, B.texture_mean, color = \"red\", label = \"Benign\", alpha = 0.3)\n",
        "plt.legend()\n",
        "plt.show()"
      ]
    },
    {
      "cell_type": "code",
      "execution_count": null,
      "metadata": {
        "id": "4IFWX0lwKZ8k"
      },
      "outputs": [],
      "source": [
        "dataset.diagnosis = [1 if i == \"M\" else 0 for i in dataset.diagnosis]"
      ]
    },
    {
      "cell_type": "code",
      "execution_count": null,
      "metadata": {
        "id": "M3Sx9bhE94Uz"
      },
      "outputs": [],
      "source": [
        "le = LabelEncoder()\n",
        "dataset[\"diagnosis\"] = le.fit_transform(dataset[\"diagnosis\"])"
      ]
    },
    {
      "cell_type": "code",
      "execution_count": null,
      "metadata": {
        "id": "tQfFQdgRKq7s"
      },
      "outputs": [],
      "source": [
        "X = dataset.drop([\"diagnosis\"], axis = 1)\n",
        "y = dataset[\"diagnosis\"]"
      ]
    },
    {
      "cell_type": "code",
      "execution_count": null,
      "metadata": {
        "id": "_ddNo8pLLcaR"
      },
      "outputs": [],
      "source": [
        "X_train, X_test, y_train, y_test = train_test_split(X, y, test_size = 0.3, random_state = 42)"
      ]
    },
    {
      "cell_type": "code",
      "execution_count": null,
      "metadata": {
        "colab": {
          "base_uri": "https://localhost:8080/",
          "height": 74
        },
        "id": "FqDp3IX1L1fA",
        "outputId": "e76dd82d-6198-4acc-bdf7-8dd813287700"
      },
      "outputs": [],
      "source": [
        "nb = GaussianNB()\n",
        "nb.fit(X_train, y_train)"
      ]
    },
    {
      "cell_type": "code",
      "execution_count": null,
      "metadata": {
        "id": "wjnB6bURBihM"
      },
      "outputs": [],
      "source": [
        "y_pred = nb.predict(X_test)"
      ]
    },
    {
      "cell_type": "code",
      "execution_count": null,
      "metadata": {
        "colab": {
          "base_uri": "https://localhost:8080/"
        },
        "id": "weCUi5pNBrvg",
        "outputId": "c3b14a9e-3bd1-41bd-a4dc-bc9e910646ef"
      },
      "outputs": [],
      "source": [
        "accuracy = accuracy_score(y_test, y_pred)\n",
        "print(f\"Naive bayes score : {accuracy}\")"
      ]
    }
  ],
  "metadata": {
    "colab": {
      "provenance": []
    },
    "kernelspec": {
      "display_name": "Python 3",
      "name": "python3"
    },
    "language_info": {
      "name": "python"
    }
  },
  "nbformat": 4,
  "nbformat_minor": 0
}
